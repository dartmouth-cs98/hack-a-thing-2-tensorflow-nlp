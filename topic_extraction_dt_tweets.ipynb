{
 "metadata": {
  "language_info": {
   "codemirror_mode": {
    "name": "ipython",
    "version": 3
   },
   "file_extension": ".py",
   "mimetype": "text/x-python",
   "name": "python",
   "nbconvert_exporter": "python",
   "pygments_lexer": "ipython3",
   "version": "3.8.5-final"
  },
  "orig_nbformat": 2,
  "kernelspec": {
   "name": "Python 3.8.5 64-bit",
   "display_name": "Python 3.8.5 64-bit",
   "metadata": {
    "interpreter": {
     "hash": "aee8b7b246df8f9039afb4144a1f6fd8d2ca17a180786b69acc140d282b71a49"
    }
   }
  }
 },
 "nbformat": 4,
 "nbformat_minor": 2,
 "cells": [
  {
   "cell_type": "code",
   "execution_count": 56,
   "metadata": {},
   "outputs": [],
   "source": [
    "import json\n",
    "from nltk.tokenize import RegexpTokenizer\n",
    "with open('./trump_tweets.json') as f:\n",
    "    data = json.load(f)\n",
    "documents = []\n",
    "for tweet in data:\n",
    "    # remove retweets\n",
    "    if tweet['text'][:2] != \"RT\":\n",
    "        documents.append(tweet['text'])\n"
   ]
  },
  {
   "source": [
    "glancing at the data:"
   ],
   "cell_type": "markdown",
   "metadata": {}
  },
  {
   "cell_type": "code",
   "execution_count": 57,
   "metadata": {},
   "outputs": [
    {
     "output_type": "stream",
     "name": "stdout",
     "text": [
      "44729\n['Will be doing show with @RushLimbaughEIB at 12:00 P.M. TALK RADIO.  ENJOY!!!', 'Covid Relief Negotiations are moving along. Go Big!', 'Just got a briefing on Hurricane Delta rushing toward Louisiana and Mississippi. @fema is there and ready!!!', 'Crazy Nancy Pelosi is looking at the 25th Amendment in order to replace Joe Biden with Kamala Harris. The Dems want that to happen fast because Sleepy Joe is out of it!!!', 'Steve Scully, the second Debate Moderator, is a Never Trumper, just like the son of the great Mike Wallace. Fix!!!']\n"
     ]
    }
   ],
   "source": [
    "print(len(documents))\n",
    "print(documents[:5])"
   ]
  },
  {
   "cell_type": "code",
   "execution_count": 58,
   "metadata": {},
   "outputs": [
    {
     "output_type": "stream",
     "name": "stderr",
     "text": [
      "[nltk_data] Downloading package wordnet to /Users/erafkin/nltk_data...\n[nltk_data]   Package wordnet is already up-to-date!\n"
     ]
    }
   ],
   "source": [
    "import gensim \n",
    "from gensim.utils import simple_preprocess\n",
    "from gensim.parsing.preprocessing import STOPWORDS\n",
    "from nltk.stem import WordNetLemmatizer, SnowballStemmer\n",
    "from nltk.stem.porter import *\n",
    "import numpy as np\n",
    "import string\n",
    "np.random.seed(2018)\n",
    "\n",
    "import nltk\n",
    "nltk.download('wordnet')\n",
    "stemmer = SnowballStemmer('english')"
   ]
  },
  {
   "source": [
    "A function to perform lemmatize and stem preprocessing steps on the data set:\n",
    "- no @'s\n",
    "- no links"
   ],
   "cell_type": "markdown",
   "metadata": {}
  },
  {
   "cell_type": "code",
   "execution_count": 59,
   "metadata": {},
   "outputs": [],
   "source": [
    "def lemmatize_stemming(text):\n",
    "    return stemmer.stem(WordNetLemmatizer().lemmatize(text, pos='v'))\n",
    "\n",
    "def preprocess(text):\n",
    "    result = []\n",
    "    temp = []\n",
    "    for token in text.split(\" \"):\n",
    "        token = token.lower()\n",
    "        if token[:1] != '@' and token[:4] != 'http':\n",
    "            token = token.translate(str.maketrans('', '', string.punctuation))\n",
    "            if token not in gensim.parsing.preprocessing.STOPWORDS and len(token) > 3:\n",
    "                result.append(lemmatize_stemming(token))\n",
    "    return result\n"
   ]
  },
  {
   "source": [
    "picking a doc to preview after preprocessing:"
   ],
   "cell_type": "markdown",
   "metadata": {}
  },
  {
   "cell_type": "code",
   "execution_count": 68,
   "metadata": {},
   "outputs": [
    {
     "output_type": "stream",
     "name": "stdout",
     "text": [
      "original document: \n['.@dagenmcdowell,', '“Every', 'Democrat', 'is', 'running', 'to', 'raise', 'taxes.', 'She', '(Pocahontas)', 'lied', 'about', 'her', 'ethnicity,', 'that', 'was', 'her', 'problem.”', '@MariaBartiromo', '', 'So', 'true', 'Dagen!']\n\n\n tokenized and lemmatized document: \n['dagenmcdowel', '“everi', 'democrat', 'run', 'rais', 'tax', 'pocahonta', 'lie', 'ethnic', 'problem”', 'true', 'dagen']\n"
     ]
    }
   ],
   "source": [
    "doc_sample = documents[4000]\n",
    "\n",
    "print('original document: ')\n",
    "words = []\n",
    "for word in doc_sample.split(' '):\n",
    "    words.append(word)\n",
    "print(words)\n",
    "print('\\n\\n tokenized and lemmatized document: ')\n",
    "print(preprocess(doc_sample))"
   ]
  },
  {
   "source": [
    "Preprocess the headline text, saving the results as ‘processed_docs’"
   ],
   "cell_type": "markdown",
   "metadata": {}
  },
  {
   "cell_type": "code",
   "execution_count": 69,
   "metadata": {},
   "outputs": [
    {
     "output_type": "execute_result",
     "data": {
      "text/plain": [
       "[['1200', 'pm', 'talk', 'radio', 'enjoy'],\n",
       " ['covid', 'relief', 'negoti', 'move', 'along', 'big'],\n",
       " ['brief', 'hurrican', 'delta', 'rush', 'louisiana', 'mississippi', 'readi'],\n",
       " ['crazi',\n",
       "  'nanci',\n",
       "  'pelosi',\n",
       "  'look',\n",
       "  '25th',\n",
       "  'amend',\n",
       "  'order',\n",
       "  'replac',\n",
       "  'biden',\n",
       "  'kamala',\n",
       "  'harri',\n",
       "  'dem',\n",
       "  'want',\n",
       "  'happen',\n",
       "  'fast',\n",
       "  'sleepi',\n",
       "  'it'],\n",
       " ['steve',\n",
       "  'sculli',\n",
       "  'second',\n",
       "  'debat',\n",
       "  'moder',\n",
       "  'trumper',\n",
       "  'like',\n",
       "  'great',\n",
       "  'mike',\n",
       "  'wallac',\n",
       "  'fix'],\n",
       " ['vote'],\n",
       " ['hello'],\n",
       " ['save', 'second', 'amend', 'virginia', 'go', 'away', 'vote', 'trump'],\n",
       " ['nick',\n",
       "  'complet',\n",
       "  'total',\n",
       "  'endors',\n",
       "  'warrior',\n",
       "  'virginia',\n",
       "  'usa',\n",
       "  'protect',\n",
       "  'second',\n",
       "  'amend'],\n",
       " ['gallup',\n",
       "  'poll',\n",
       "  'come',\n",
       "  'incred',\n",
       "  'find',\n",
       "  'better',\n",
       "  'today',\n",
       "  'pandem',\n",
       "  'year',\n",
       "  'obiden',\n",
       "  'highest',\n",
       "  'number',\n",
       "  'record',\n",
       "  'pretti',\n",
       "  'amaz']]"
      ]
     },
     "metadata": {},
     "execution_count": 69
    }
   ],
   "source": [
    "processed_docs = []\n",
    "for doc in documents:\n",
    "    processed_docs.append(preprocess(doc))\n",
    "processed_docs[:10]"
   ]
  },
  {
   "source": [
    "Create a dictionary from ‘processed_docs’ containing the number of times a word appears in the training set."
   ],
   "cell_type": "markdown",
   "metadata": {}
  },
  {
   "cell_type": "code",
   "execution_count": 71,
   "metadata": {},
   "outputs": [
    {
     "output_type": "stream",
     "name": "stdout",
     "text": [
      "0 1200\n1 enjoy\n2 pm\n3 radio\n4 talk\n5 along\n6 big\n7 covid\n8 move\n9 negoti\n10 relief\n"
     ]
    }
   ],
   "source": [
    "dictionary = gensim.corpora.Dictionary(processed_docs)\n",
    "count = 0\n",
    "for k, v in dictionary.iteritems():\n",
    "    print(k, v)\n",
    "    count += 1\n",
    "    if count > 10:\n",
    "        break"
   ]
  },
  {
   "source": [
    "\"Filter out everything that's dumb\"\n",
    "- tokens that appear in less than 15 docs\n",
    "- tokens that appear in more half of the docs\n",
    "- keep only the first 100000 most frequent tokens\n"
   ],
   "cell_type": "markdown",
   "metadata": {}
  },
  {
   "cell_type": "code",
   "execution_count": 72,
   "metadata": {},
   "outputs": [],
   "source": [
    "dictionary.filter_extremes(no_below=15, no_above=0.5, keep_n=20000)"
   ]
  },
  {
   "source": [
    "For each document we create a dictionary reporting how many\n",
    "words and how many times those words appear. Save this to ‘bow_corpus’, then check our selected document earlier."
   ],
   "cell_type": "markdown",
   "metadata": {}
  },
  {
   "cell_type": "code",
   "execution_count": 73,
   "metadata": {},
   "outputs": [
    {
     "output_type": "execute_result",
     "data": {
      "text/plain": [
       "[(17, 1),\n",
       " (32, 1),\n",
       " (112, 1),\n",
       " (125, 1),\n",
       " (162, 1),\n",
       " (289, 1),\n",
       " (293, 1),\n",
       " (303, 1),\n",
       " (334, 1),\n",
       " (404, 1),\n",
       " (414, 1),\n",
       " (428, 1),\n",
       " (478, 1),\n",
       " (479, 1),\n",
       " (480, 1),\n",
       " (481, 1)]"
      ]
     },
     "metadata": {},
     "execution_count": 73
    }
   ],
   "source": [
    "bow_corpus = [dictionary.doc2bow(doc) for doc in processed_docs]\n",
    "bow_corpus[100]"
   ]
  },
  {
   "source": [
    "preview our bag o' words:"
   ],
   "cell_type": "markdown",
   "metadata": {}
  },
  {
   "cell_type": "code",
   "execution_count": 74,
   "metadata": {},
   "outputs": [
    {
     "output_type": "stream",
     "name": "stdout",
     "text": [
      "Word 17 (\"biden\") appears 1 time.\nWord 32 (\"fix\") appears 1 time.\nWord 112 (\"countri\") appears 1 time.\nWord 125 (\"interview\") appears 1 time.\nWord 162 (\"absolut\") appears 1 time.\nWord 289 (\"hall\") appears 1 time.\nWord 293 (\"town\") appears 1 time.\nWord 303 (\"corrupt\") appears 1 time.\nWord 334 (\"way\") appears 1 time.\nWord 404 (\"pay\") appears 1 time.\nWord 414 (\"disgrac\") appears 1 time.\nWord 428 (\"time\") appears 1 time.\nWord 478 (\"dnc\") appears 1 time.\nWord 479 (\"free\") appears 1 time.\nWord 480 (\"host\") appears 1 time.\nWord 481 (\"public\") appears 1 time.\n"
     ]
    }
   ],
   "source": [
    "bow_doc_4310 = bow_corpus[100]\n",
    "for i in range(len(bow_doc_4310)):\n",
    "    print(\"Word {} (\\\"{}\\\") appears {} time.\".format(bow_doc_4310[i][0], \n",
    "                                               dictionary[bow_doc_4310[i][0]], \n",
    "bow_doc_4310[i][1]))"
   ]
  },
  {
   "source": [
    "Create tf-idf model object using models.TfidfModel on ‘bow_corpus’ and save it to ‘tfidf’, then apply transformation to the entire corpus and call it ‘corpus_tfidf’. Finally we preview TF-IDF scores for our first document.\n",
    "tf-idf stands for \"term frequency inverse document frequency\". It is an idicator of the importance of a word. A high score means the word is important, and a low score means less important. It's based on the idea that a word that is very frequent in an individual doc and is very frequent over the entire corpus of documents is unimportant (ex. the, of). "
   ],
   "cell_type": "markdown",
   "metadata": {}
  },
  {
   "cell_type": "code",
   "execution_count": 75,
   "metadata": {},
   "outputs": [
    {
     "output_type": "stream",
     "name": "stdout",
     "text": [
      "[(0, 0.41109697707787884),\n (1, 0.47409539618980856),\n (2, 0.6734830347647046),\n (3, 0.3907088847635566)]\n"
     ]
    }
   ],
   "source": [
    "from gensim import corpora, models\n",
    "tfidf = models.TfidfModel(bow_corpus)\n",
    "corpus_tfidf = tfidf[bow_corpus]\n",
    "from pprint import pprint\n",
    "for doc in corpus_tfidf:\n",
    "    pprint(doc)\n",
    "    break"
   ]
  },
  {
   "source": [
    "Train our lda model using gensim.models.LdaMulticore and save it to ‘lda_model’"
   ],
   "cell_type": "markdown",
   "metadata": {}
  },
  {
   "cell_type": "code",
   "execution_count": 93,
   "metadata": {},
   "outputs": [],
   "source": [
    "lda_model = gensim.models.LdaMulticore(bow_corpus, num_topics=5, id2word=dictionary, passes=2, workers=2)"
   ]
  },
  {
   "source": [
    "For each topic, we will explore the words occuring in that topic and its relative weight."
   ],
   "cell_type": "markdown",
   "metadata": {}
  },
  {
   "cell_type": "code",
   "execution_count": 94,
   "metadata": {},
   "outputs": [
    {
     "output_type": "stream",
     "name": "stdout",
     "text": [
      "Topic: 0 \nWords: 0.035*\"great\" + 0.019*\"trump\" + 0.016*\"apprentic\" + 0.016*\"tonight\" + 0.016*\"interview\" + 0.015*\"look\" + 0.013*\"night\" + 0.011*\"golf\" + 0.011*\"celebr\" + 0.011*\"america\"\nTopic: 1 \nWords: 0.015*\"china\" + 0.014*\"obama\" + 0.012*\"amp\" + 0.009*\"vote\" + 0.007*\"job\" + 0.007*\"total\" + 0.007*\"tax\" + 0.007*\"countri\" + 0.007*\"record\" + 0.007*\"republican\"\nTopic: 2 \nWords: 0.016*\"great\" + 0.014*\"trump\" + 0.013*\"presid\" + 0.013*\"work\" + 0.012*\"obama\" + 0.012*\"go\" + 0.009*\"time\" + 0.009*\"good\" + 0.008*\"peopl\" + 0.007*\"amp\"\nTopic: 3 \nWords: 0.030*\"trump\" + 0.020*\"donald\" + 0.017*\"dont\" + 0.013*\"think\" + 0.011*\"like\" + 0.010*\"great\" + 0.010*\"deal\" + 0.009*\"watch\" + 0.009*\"presid\" + 0.008*\"obamacar\"\nTopic: 4 \nWords: 0.079*\"thank\" + 0.032*\"you\" + 0.021*\"great\" + 0.018*\"trump\" + 0.018*\"need\" + 0.012*\"love\" + 0.011*\"true\" + 0.011*\"amp\" + 0.010*\"america\" + 0.010*\"debt\"\n"
     ]
    }
   ],
   "source": [
    "for idx, topic in lda_model.print_topics(-1):\n",
    "    print('Topic: {} \\nWords: {}'.format(idx, topic))"
   ]
  },
  {
   "source": [
    "running LDA using TF-IDF:"
   ],
   "cell_type": "markdown",
   "metadata": {}
  },
  {
   "cell_type": "code",
   "execution_count": 95,
   "metadata": {},
   "outputs": [
    {
     "output_type": "stream",
     "name": "stdout",
     "text": [
      "Topic: 0 Word: 0.008*\"obama\" + 0.008*\"trump\" + 0.006*\"want\" + 0.005*\"amp\" + 0.005*\"think\" + 0.005*\"great\" + 0.004*\"like\" + 0.004*\"hes\" + 0.004*\"donald\" + 0.004*\"peopl\"\nTopic: 1 Word: 0.016*\"great\" + 0.009*\"america\" + 0.008*\"you\" + 0.008*\"thank\" + 0.008*\"interview\" + 0.007*\"tonight\" + 0.007*\"trump\" + 0.006*\"again\" + 0.006*\"go\" + 0.006*\"enjoy\"\nTopic: 2 Word: 0.008*\"cont\" + 0.008*\"great\" + 0.007*\"dont\" + 0.006*\"trump\" + 0.006*\"love\" + 0.005*\"best\" + 0.005*\"like\" + 0.005*\"news\" + 0.005*\"amp\" + 0.005*\"peopl\"\nTopic: 3 Word: 0.062*\"thank\" + 0.019*\"you\" + 0.015*\"true\" + 0.014*\"great\" + 0.006*\"amp\" + 0.006*\"apprentic\" + 0.006*\"trump\" + 0.005*\"presid\" + 0.005*\"amaz\" + 0.005*\"deal\"\nTopic: 4 Word: 0.014*\"trump\" + 0.012*\"presid\" + 0.009*\"donald\" + 0.009*\"thank\" + 0.008*\"great\" + 0.007*\"makeamericagreatagain\" + 0.007*\"luck\" + 0.006*\"good\" + 0.006*\"nice\" + 0.005*\"amp\"\n"
     ]
    }
   ],
   "source": [
    "lda_model_tfidf = gensim.models.LdaMulticore(corpus_tfidf, num_topics=5, id2word=dictionary, passes=2, workers=4)\n",
    "for idx, topic in lda_model_tfidf.print_topics(-1):\n",
    "    print('Topic: {} Word: {}'.format(idx, topic))"
   ]
  },
  {
   "source": [
    "Performance evaluation by classifying sample document using LDA Bag of Words model\n",
    "\n",
    "We will check where our test document would be classified."
   ],
   "cell_type": "markdown",
   "metadata": {}
  },
  {
   "cell_type": "code",
   "execution_count": 96,
   "metadata": {},
   "outputs": [
    {
     "output_type": "execute_result",
     "data": {
      "text/plain": [
       "['stock',\n",
       " 'market',\n",
       " 'big',\n",
       " 'point',\n",
       " '28149',\n",
       " 'great',\n",
       " 'news',\n",
       " 'america',\n",
       " 'job',\n",
       " 'job',\n",
       " 'job']"
      ]
     },
     "metadata": {},
     "execution_count": 96
    }
   ],
   "source": [
    "processed_docs[120]"
   ]
  },
  {
   "cell_type": "code",
   "execution_count": 97,
   "metadata": {},
   "outputs": [
    {
     "output_type": "stream",
     "name": "stdout",
     "text": [
      "\nScore: 0.6696403622627258\t \nTopic: 0.015*\"china\" + 0.014*\"obama\" + 0.012*\"amp\" + 0.009*\"vote\" + 0.007*\"job\" + 0.007*\"total\" + 0.007*\"tax\" + 0.007*\"countri\" + 0.007*\"record\" + 0.007*\"republican\"\n\nScore: 0.2747897505760193\t \nTopic: 0.035*\"great\" + 0.019*\"trump\" + 0.016*\"apprentic\" + 0.016*\"tonight\" + 0.016*\"interview\" + 0.015*\"look\" + 0.013*\"night\" + 0.011*\"golf\" + 0.011*\"celebr\" + 0.011*\"america\"\n\nScore: 0.018671849742531776\t \nTopic: 0.079*\"thank\" + 0.032*\"you\" + 0.021*\"great\" + 0.018*\"trump\" + 0.018*\"need\" + 0.012*\"love\" + 0.011*\"true\" + 0.011*\"amp\" + 0.010*\"america\" + 0.010*\"debt\"\n\nScore: 0.018513984978199005\t \nTopic: 0.030*\"trump\" + 0.020*\"donald\" + 0.017*\"dont\" + 0.013*\"think\" + 0.011*\"like\" + 0.010*\"great\" + 0.010*\"deal\" + 0.009*\"watch\" + 0.009*\"presid\" + 0.008*\"obamacar\"\n\nScore: 0.018384063616394997\t \nTopic: 0.016*\"great\" + 0.014*\"trump\" + 0.013*\"presid\" + 0.013*\"work\" + 0.012*\"obama\" + 0.012*\"go\" + 0.009*\"time\" + 0.009*\"good\" + 0.008*\"peopl\" + 0.007*\"amp\"\n"
     ]
    }
   ],
   "source": [
    "for index, score in sorted(lda_model[bow_corpus[120]], key=lambda tup: -1*tup[1]):\n",
    "    print(\"\\nScore: {}\\t \\nTopic: {}\".format(score, lda_model.print_topic(index, 10)))"
   ]
  },
  {
   "source": [
    "try one more:"
   ],
   "cell_type": "markdown",
   "metadata": {}
  },
  {
   "cell_type": "code",
   "execution_count": 101,
   "metadata": {},
   "outputs": [
    {
     "output_type": "execute_result",
     "data": {
      "text/plain": [
       "['half',\n",
       " 'year',\n",
       " 'secur',\n",
       " 'america',\n",
       " 'border',\n",
       " 'rebuild',\n",
       " 'awesom',\n",
       " 'power',\n",
       " 'us',\n",
       " 'militari',\n",
       " 'obliter',\n",
       " 'isi',\n",
       " 'caliph',\n",
       " 'fix',\n",
       " 'disastr',\n",
       " 'trade',\n",
       " 'deal',\n",
       " 'bring',\n",
       " 'job',\n",
       " 'home',\n",
       " 'america',\n",
       " 'minnesota',\n",
       " 'maga']"
      ]
     },
     "metadata": {},
     "execution_count": 101
    }
   ],
   "source": [
    "processed_docs[170]\n"
   ]
  },
  {
   "cell_type": "code",
   "execution_count": 102,
   "metadata": {},
   "outputs": [
    {
     "output_type": "stream",
     "name": "stdout",
     "text": [
      "\nScore: 0.7578873038291931\t \nTopic: 0.015*\"china\" + 0.014*\"obama\" + 0.012*\"amp\" + 0.009*\"vote\" + 0.007*\"job\" + 0.007*\"total\" + 0.007*\"tax\" + 0.007*\"countri\" + 0.007*\"record\" + 0.007*\"republican\"\n\nScore: 0.21526038646697998\t \nTopic: 0.035*\"great\" + 0.019*\"trump\" + 0.016*\"apprentic\" + 0.016*\"tonight\" + 0.016*\"interview\" + 0.015*\"look\" + 0.013*\"night\" + 0.011*\"golf\" + 0.011*\"celebr\" + 0.011*\"america\"\n"
     ]
    }
   ],
   "source": [
    "for index, score in sorted(lda_model[bow_corpus[170]], key=lambda tup: -1*tup[1]):\n",
    "    print(\"\\nScore: {}\\t \\nTopic: {}\".format(score, lda_model.print_topic(index, 10)))"
   ]
  },
  {
   "source": [
    "Performance evaluation by classifying sample document using LDA TF-IDF model:\n",
    "- we like tf-idf because we think it is classifiying better"
   ],
   "cell_type": "markdown",
   "metadata": {}
  },
  {
   "cell_type": "code",
   "execution_count": 103,
   "metadata": {},
   "outputs": [
    {
     "output_type": "stream",
     "name": "stdout",
     "text": [
      "\nScore: 0.8469293117523193\t \nTopic: 0.014*\"trump\" + 0.012*\"presid\" + 0.009*\"donald\" + 0.009*\"thank\" + 0.008*\"great\" + 0.007*\"makeamericagreatagain\" + 0.007*\"luck\" + 0.006*\"good\" + 0.006*\"nice\" + 0.005*\"amp\"\n\nScore: 0.03890892118215561\t \nTopic: 0.008*\"obama\" + 0.008*\"trump\" + 0.006*\"want\" + 0.005*\"amp\" + 0.005*\"think\" + 0.005*\"great\" + 0.004*\"like\" + 0.004*\"hes\" + 0.004*\"donald\" + 0.004*\"peopl\"\n\nScore: 0.03819483518600464\t \nTopic: 0.016*\"great\" + 0.009*\"america\" + 0.008*\"you\" + 0.008*\"thank\" + 0.008*\"interview\" + 0.007*\"tonight\" + 0.007*\"trump\" + 0.006*\"again\" + 0.006*\"go\" + 0.006*\"enjoy\"\n\nScore: 0.03815516456961632\t \nTopic: 0.062*\"thank\" + 0.019*\"you\" + 0.015*\"true\" + 0.014*\"great\" + 0.006*\"amp\" + 0.006*\"apprentic\" + 0.006*\"trump\" + 0.005*\"presid\" + 0.005*\"amaz\" + 0.005*\"deal\"\n\nScore: 0.0378117561340332\t \nTopic: 0.008*\"cont\" + 0.008*\"great\" + 0.007*\"dont\" + 0.006*\"trump\" + 0.006*\"love\" + 0.005*\"best\" + 0.005*\"like\" + 0.005*\"news\" + 0.005*\"amp\" + 0.005*\"peopl\"\n"
     ]
    }
   ],
   "source": [
    "for index, score in sorted(lda_model_tfidf[corpus_tfidf[170]], key=lambda tup: -1*tup[1]):\n",
    "    print(\"\\nScore: {}\\t \\nTopic: {}\".format(score, lda_model_tfidf.print_topic(index, 10)))"
   ]
  },
  {
   "source": [
    "Real deal: testing on unseen document"
   ],
   "cell_type": "markdown",
   "metadata": {}
  },
  {
   "cell_type": "code",
   "execution_count": 109,
   "metadata": {},
   "outputs": [
    {
     "output_type": "stream",
     "name": "stdout",
     "text": [
      "Score: 0.8330960273742676\t Topic: 0.015*\"china\" + 0.014*\"obama\" + 0.012*\"amp\" + 0.009*\"vote\" + 0.007*\"job\"\nScore: 0.043201327323913574\t Topic: 0.030*\"trump\" + 0.020*\"donald\" + 0.017*\"dont\" + 0.013*\"think\" + 0.011*\"like\"\nScore: 0.042434994131326675\t Topic: 0.079*\"thank\" + 0.032*\"you\" + 0.021*\"great\" + 0.018*\"trump\" + 0.018*\"need\"\nScore: 0.04113909974694252\t Topic: 0.016*\"great\" + 0.014*\"trump\" + 0.013*\"presid\" + 0.013*\"work\" + 0.012*\"obama\"\nScore: 0.040128543972969055\t Topic: 0.035*\"great\" + 0.019*\"trump\" + 0.016*\"apprentic\" + 0.016*\"tonight\" + 0.016*\"interview\"\n"
     ]
    }
   ],
   "source": [
    "unseen_document = 'if i win the election the rich won\\'t have to pay taxes'\n",
    "bow_vector = dictionary.doc2bow(preprocess(unseen_document))\n",
    "for index, score in sorted(lda_model[bow_vector], key=lambda tup: -1*tup[1]):\n",
    "    print(\"Score: {}\\t Topic: {}\".format(score, lda_model.print_topic(index, 5)))"
   ]
  },
  {
   "source": [
    "### Conclusion\n",
    "\n",
    "this one makes a little more sense. but the parser needs to be better. a lot of words that don't matter were left over. \n"
   ],
   "cell_type": "markdown",
   "metadata": {}
  }
 ]
}