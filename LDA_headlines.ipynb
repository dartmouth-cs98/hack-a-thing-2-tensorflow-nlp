{
 "metadata": {
  "language_info": {
   "codemirror_mode": {
    "name": "ipython",
    "version": 3
   },
   "file_extension": ".py",
   "mimetype": "text/x-python",
   "name": "python",
   "nbconvert_exporter": "python",
   "pygments_lexer": "ipython3",
   "version": "3.8.5-final"
  },
  "orig_nbformat": 2,
  "kernelspec": {
   "name": "python38564bit9f1b996f619c4d3a81fd2b5e687253b7",
   "display_name": "Python 3.8.5 64-bit"
  }
 },
 "nbformat": 4,
 "nbformat_minor": 2,
 "cells": [
  {
   "cell_type": "code",
   "execution_count": 3,
   "metadata": {},
   "outputs": [],
   "source": [
    "import pandas as pd\n",
    "data = pd.read_csv('abcnews-date-text.csv',error_bad_lines=False);\n",
    "data_text = data[['headline_text']]\n",
    "data_text['index'] = data_text.index\n",
    "documents = data_text"
   ]
  },
  {
   "source": [
    "glancing at the data:"
   ],
   "cell_type": "markdown",
   "metadata": {}
  },
  {
   "cell_type": "code",
   "execution_count": 4,
   "metadata": {},
   "outputs": [
    {
     "output_type": "stream",
     "name": "stdout",
     "text": [
      "1186018\n                                       headline_text  index\n0  aba decides against community broadcasting lic...      0\n1     act fire witnesses must be aware of defamation      1\n2     a g calls for infrastructure protection summit      2\n3           air nz staff in aust strike for pay rise      3\n4      air nz strike to affect australian travellers      4\n"
     ]
    }
   ],
   "source": [
    "print(len(documents))\n",
    "print(documents[:5])"
   ]
  },
  {
   "cell_type": "code",
   "execution_count": 18,
   "metadata": {},
   "outputs": [
    {
     "output_type": "stream",
     "name": "stderr",
     "text": [
      "[nltk_data] Downloading package wordnet to /home/grace/nltk_data...\n[nltk_data]   Package wordnet is already up-to-date!\n"
     ]
    }
   ],
   "source": [
    "import gensim \n",
    "from gensim.utils import simple_preprocess\n",
    "from gensim.parsing.preprocessing import STOPWORDS\n",
    "from nltk.stem import WordNetLemmatizer, SnowballStemmer\n",
    "from nltk.stem.porter import *\n",
    "import numpy as np\n",
    "np.random.seed(2018)\n",
    "\n",
    "import nltk\n",
    "nltk.download('wordnet')\n",
    "stemmer = SnowballStemmer('english')"
   ]
  },
  {
   "source": [
    "A function to perform lemmatize and stem preprocessing steps on the data set:"
   ],
   "cell_type": "markdown",
   "metadata": {}
  },
  {
   "cell_type": "code",
   "execution_count": 20,
   "metadata": {},
   "outputs": [],
   "source": [
    "def lemmatize_stemming(text):\n",
    "    return stemmer.stem(WordNetLemmatizer().lemmatize(text, pos='v'))\n",
    "\n",
    "def preprocess(text):\n",
    "    result = []\n",
    "    for token in gensim.utils.simple_preprocess(text):\n",
    "        if token not in gensim.parsing.preprocessing.STOPWORDS and len(token) > 3:\n",
    "            result.append(lemmatize_stemming(token))\n",
    "    return result\n"
   ]
  },
  {
   "source": [
    "picking a doc to preview after preprocessing:"
   ],
   "cell_type": "markdown",
   "metadata": {}
  },
  {
   "cell_type": "code",
   "execution_count": 21,
   "metadata": {},
   "outputs": [
    {
     "output_type": "stream",
     "name": "stdout",
     "text": [
      "original document: \n",
      "['ratepayers', 'group', 'wants', 'compulsory', 'local', 'govt', 'voting']\n",
      "\n",
      "\n",
      " tokenized and lemmatized document: \n",
      "['ratepay', 'group', 'want', 'compulsori', 'local', 'govt', 'vote']\n"
     ]
    }
   ],
   "source": [
    "doc_sample = documents[documents['index'] == 4310].values[0][0]\n",
    "\n",
    "print('original document: ')\n",
    "words = []\n",
    "for word in doc_sample.split(' '):\n",
    "    words.append(word)\n",
    "print(words)\n",
    "print('\\n\\n tokenized and lemmatized document: ')\n",
    "print(preprocess(doc_sample))"
   ]
  },
  {
   "source": [
    "Preprocess the headline text, saving the results as ‘processed_docs’"
   ],
   "cell_type": "markdown",
   "metadata": {}
  },
  {
   "cell_type": "code",
   "execution_count": 23,
   "metadata": {},
   "outputs": [
    {
     "output_type": "execute_result",
     "data": {
      "text/plain": [
       "0            [decid, communiti, broadcast, licenc]\n",
       "1                               [wit, awar, defam]\n",
       "2           [call, infrastructur, protect, summit]\n",
       "3                      [staff, aust, strike, rise]\n",
       "4             [strike, affect, australian, travel]\n",
       "5               [ambiti, olsson, win, tripl, jump]\n",
       "6           [antic, delight, record, break, barca]\n",
       "7    [aussi, qualifi, stosur, wast, memphi, match]\n",
       "8            [aust, address, secur, council, iraq]\n",
       "9                         [australia, lock, timet]\n",
       "Name: headline_text, dtype: object"
      ]
     },
     "metadata": {},
     "execution_count": 23
    }
   ],
   "source": [
    "processed_docs = documents['headline_text'].map(preprocess)\n",
    "processed_docs[:10]"
   ]
  },
  {
   "source": [
    "Create a dictionary from ‘processed_docs’ containing the number of times a word appears in the training set."
   ],
   "cell_type": "markdown",
   "metadata": {}
  },
  {
   "cell_type": "code",
   "execution_count": 25,
   "metadata": {},
   "outputs": [
    {
     "output_type": "stream",
     "name": "stdout",
     "text": [
      "0 broadcast\n1 communiti\n2 decid\n3 licenc\n4 awar\n5 defam\n6 wit\n7 call\n8 infrastructur\n9 protect\n10 summit\n"
     ]
    }
   ],
   "source": [
    "dictionary = gensim.corpora.Dictionary(processed_docs)\n",
    "count = 0\n",
    "for k, v in dictionary.iteritems():\n",
    "    print(k, v)\n",
    "    count += 1\n",
    "    if count > 10:\n",
    "        break"
   ]
  },
  {
   "source": [
    "\"Filter out everything that's dumb\"\n",
    "- tokens that appear in less than 15 docs\n",
    "- tokens that appear in more half of the docs\n",
    "- keep only the first 100000 most frequent tokens\n"
   ],
   "cell_type": "markdown",
   "metadata": {}
  },
  {
   "cell_type": "code",
   "execution_count": 27,
   "metadata": {},
   "outputs": [],
   "source": [
    "dictionary.filter_extremes(no_below=15, no_above=0.5, keep_n=100000)"
   ]
  },
  {
   "source": [
    "For each document we create a dictionary reporting how many\n",
    "words and how many times those words appear. Save this to ‘bow_corpus’, then check our selected document earlier."
   ],
   "cell_type": "markdown",
   "metadata": {}
  },
  {
   "cell_type": "code",
   "execution_count": 28,
   "metadata": {},
   "outputs": [
    {
     "output_type": "execute_result",
     "data": {
      "text/plain": [
       "[(162, 1), (240, 1), (292, 1), (589, 1), (838, 1), (3567, 1), (3568, 1)]"
      ]
     },
     "metadata": {},
     "execution_count": 28
    }
   ],
   "source": [
    "bow_corpus = [dictionary.doc2bow(doc) for doc in processed_docs]\n",
    "bow_corpus[4310]"
   ]
  },
  {
   "source": [
    "preview our bag o' words:"
   ],
   "cell_type": "markdown",
   "metadata": {}
  },
  {
   "cell_type": "code",
   "execution_count": 29,
   "metadata": {},
   "outputs": [
    {
     "output_type": "stream",
     "name": "stdout",
     "text": [
      "Word 162 (\"govt\") appears 1 time.\nWord 240 (\"group\") appears 1 time.\nWord 292 (\"vote\") appears 1 time.\nWord 589 (\"local\") appears 1 time.\nWord 838 (\"want\") appears 1 time.\nWord 3567 (\"compulsori\") appears 1 time.\nWord 3568 (\"ratepay\") appears 1 time.\n"
     ]
    }
   ],
   "source": [
    "bow_doc_4310 = bow_corpus[4310]\n",
    "for i in range(len(bow_doc_4310)):\n",
    "    print(\"Word {} (\\\"{}\\\") appears {} time.\".format(bow_doc_4310[i][0], \n",
    "                                               dictionary[bow_doc_4310[i][0]], \n",
    "bow_doc_4310[i][1]))"
   ]
  },
  {
   "source": [
    "Create tf-idf model object using models.TfidfModel on ‘bow_corpus’ and save it to ‘tfidf’, then apply transformation to the entire corpus and call it ‘corpus_tfidf’. Finally we preview TF-IDF scores for our first document.\n",
    "tf-idf stands for \"term frequency inverse document frequency\". It is an idicator of the importance of a word. A high score means the word is important, and a low score means less important. It's based on the idea that a word that is very frequent in an individual doc and is very frequent over the entire corpus of documents is unimportant (ex. the, of). "
   ],
   "cell_type": "markdown",
   "metadata": {}
  },
  {
   "cell_type": "code",
   "execution_count": 31,
   "metadata": {},
   "outputs": [
    {
     "output_type": "stream",
     "name": "stdout",
     "text": [
      "[(0, 0.5850076620505259),\n (1, 0.38947256567331934),\n (2, 0.4997099083387053),\n (3, 0.5063271308533074)]\n"
     ]
    }
   ],
   "source": [
    "from gensim import corpora, models\n",
    "tfidf = models.TfidfModel(bow_corpus)\n",
    "corpus_tfidf = tfidf[bow_corpus]\n",
    "from pprint import pprint\n",
    "for doc in corpus_tfidf:\n",
    "    pprint(doc)\n",
    "    break"
   ]
  },
  {
   "source": [
    "Train our lda model using gensim.models.LdaMulticore and save it to ‘lda_model’"
   ],
   "cell_type": "markdown",
   "metadata": {}
  },
  {
   "cell_type": "code",
   "execution_count": 32,
   "metadata": {},
   "outputs": [],
   "source": [
    "lda_model = gensim.models.LdaMulticore(bow_corpus, num_topics=10, id2word=dictionary, passes=2, workers=2)"
   ]
  },
  {
   "source": [
    "For each topic, we will explore the words occuring in that topic and its relative weight."
   ],
   "cell_type": "markdown",
   "metadata": {}
  },
  {
   "cell_type": "code",
   "execution_count": 33,
   "metadata": {},
   "outputs": [
    {
     "output_type": "stream",
     "name": "stdout",
     "text": [
      "Topic: 0 \nWords: 0.028*\"bushfir\" + 0.026*\"hous\" + 0.021*\"south\" + 0.019*\"north\" + 0.016*\"miss\" + 0.013*\"interview\" + 0.012*\"west\" + 0.011*\"gippsland\" + 0.011*\"east\" + 0.010*\"coast\"\nTopic: 1 \nWords: 0.030*\"kill\" + 0.028*\"shoot\" + 0.025*\"dead\" + 0.020*\"polic\" + 0.019*\"protest\" + 0.019*\"attack\" + 0.013*\"offic\" + 0.013*\"assault\" + 0.012*\"chines\" + 0.011*\"michael\"\nTopic: 2 \nWords: 0.056*\"australia\" + 0.045*\"australian\" + 0.026*\"world\" + 0.018*\"canberra\" + 0.017*\"test\" + 0.013*\"win\" + 0.011*\"final\" + 0.011*\"farm\" + 0.010*\"return\" + 0.010*\"beat\"\nTopic: 3 \nWords: 0.032*\"polic\" + 0.027*\"charg\" + 0.025*\"court\" + 0.023*\"death\" + 0.023*\"murder\" + 0.023*\"woman\" + 0.022*\"victoria\" + 0.016*\"victorian\" + 0.016*\"face\" + 0.016*\"alleg\"\nTopic: 4 \nWords: 0.020*\"resid\" + 0.019*\"emerg\" + 0.018*\"chang\" + 0.018*\"say\" + 0.015*\"fear\" + 0.014*\"speak\" + 0.014*\"power\" + 0.013*\"worker\" + 0.011*\"concern\" + 0.011*\"climat\"\nTopic: 5 \nWords: 0.027*\"news\" + 0.021*\"live\" + 0.021*\"market\" + 0.020*\"tasmania\" + 0.018*\"women\" + 0.013*\"rise\" + 0.012*\"high\" + 0.012*\"price\" + 0.012*\"lose\" + 0.011*\"street\"\nTopic: 6 \nWords: 0.034*\"elect\" + 0.017*\"water\" + 0.017*\"state\" + 0.015*\"tasmanian\" + 0.011*\"labor\" + 0.011*\"liber\" + 0.010*\"morrison\" + 0.010*\"leader\" + 0.010*\"parti\" + 0.009*\"campaign\"\nTopic: 7 \nWords: 0.019*\"donald\" + 0.015*\"beach\" + 0.014*\"nation\" + 0.014*\"farmer\" + 0.013*\"rural\" + 0.013*\"time\" + 0.012*\"council\" + 0.012*\"indigen\" + 0.012*\"school\" + 0.011*\"plan\"\nTopic: 8 \nWords: 0.049*\"year\" + 0.043*\"trump\" + 0.043*\"sydney\" + 0.027*\"queensland\" + 0.024*\"peopl\" + 0.021*\"home\" + 0.020*\"adelaid\" + 0.018*\"perth\" + 0.015*\"brisban\" + 0.015*\"royal\"\nTopic: 9 \nWords: 0.034*\"govern\" + 0.025*\"stori\" + 0.019*\"warn\" + 0.018*\"feder\" + 0.016*\"health\" + 0.014*\"countri\" + 0.014*\"fund\" + 0.014*\"claim\" + 0.013*\"life\" + 0.012*\"say\"\n"
     ]
    }
   ],
   "source": [
    "for idx, topic in lda_model.print_topics(-1):\n",
    "    print('Topic: {} \\nWords: {}'.format(idx, topic))"
   ]
  },
  {
   "source": [
    "running LDA using TF-IDF:"
   ],
   "cell_type": "markdown",
   "metadata": {}
  },
  {
   "cell_type": "code",
   "execution_count": 34,
   "metadata": {},
   "outputs": [
    {
     "output_type": "stream",
     "name": "stdout",
     "text": [
      "Topic: 0 Word: 0.028*\"trump\" + 0.009*\"leagu\" + 0.009*\"world\" + 0.008*\"final\" + 0.007*\"rugbi\" + 0.006*\"open\" + 0.006*\"australia\" + 0.006*\"beat\" + 0.005*\"fiji\" + 0.005*\"game\"\nTopic: 1 Word: 0.017*\"crash\" + 0.012*\"kill\" + 0.010*\"dead\" + 0.010*\"die\" + 0.007*\"rescu\" + 0.007*\"north\" + 0.007*\"korea\" + 0.007*\"injur\" + 0.006*\"polic\" + 0.006*\"truck\"\nTopic: 2 Word: 0.016*\"murder\" + 0.016*\"charg\" + 0.014*\"polic\" + 0.014*\"court\" + 0.011*\"alleg\" + 0.010*\"death\" + 0.009*\"royal\" + 0.009*\"woman\" + 0.009*\"jail\" + 0.009*\"sentenc\"\nTopic: 3 Word: 0.011*\"govern\" + 0.008*\"price\" + 0.007*\"market\" + 0.007*\"australian\" + 0.007*\"rise\" + 0.006*\"share\" + 0.006*\"dollar\" + 0.005*\"live\" + 0.005*\"cattl\" + 0.005*\"violenc\"\nTopic: 4 Word: 0.013*\"elect\" + 0.007*\"labor\" + 0.007*\"monday\" + 0.007*\"thursday\" + 0.006*\"wall\" + 0.006*\"sport\" + 0.006*\"feder\" + 0.006*\"peter\" + 0.006*\"green\" + 0.006*\"say\"\nTopic: 5 Word: 0.014*\"drum\" + 0.009*\"tuesday\" + 0.009*\"michael\" + 0.007*\"juli\" + 0.006*\"august\" + 0.006*\"cancer\" + 0.006*\"explain\" + 0.005*\"footag\" + 0.005*\"america\" + 0.005*\"kohler\"\nTopic: 6 Word: 0.010*\"wednesday\" + 0.009*\"care\" + 0.009*\"morrison\" + 0.008*\"hill\" + 0.008*\"financ\" + 0.008*\"energi\" + 0.007*\"octob\" + 0.007*\"age\" + 0.007*\"june\" + 0.006*\"disabl\"\nTopic: 7 Word: 0.024*\"news\" + 0.020*\"countri\" + 0.020*\"rural\" + 0.015*\"hour\" + 0.010*\"search\" + 0.009*\"friday\" + 0.009*\"nation\" + 0.009*\"scott\" + 0.009*\"turnbul\" + 0.007*\"miss\"\nTopic: 8 Word: 0.010*\"australia\" + 0.008*\"cricket\" + 0.007*\"plead\" + 0.007*\"andrew\" + 0.006*\"mark\" + 0.006*\"guilti\" + 0.005*\"insid\" + 0.005*\"music\" + 0.005*\"spring\" + 0.005*\"test\"\nTopic: 9 Word: 0.015*\"interview\" + 0.014*\"donald\" + 0.010*\"stori\" + 0.009*\"weather\" + 0.007*\"david\" + 0.006*\"septemb\" + 0.006*\"histori\" + 0.006*\"australia\" + 0.005*\"east\" + 0.005*\"live\"\n"
     ]
    }
   ],
   "source": [
    "lda_model_tfidf = gensim.models.LdaMulticore(corpus_tfidf, num_topics=10, id2word=dictionary, passes=2, workers=4)\n",
    "for idx, topic in lda_model_tfidf.print_topics(-1):\n",
    "    print('Topic: {} Word: {}'.format(idx, topic))"
   ]
  },
  {
   "source": [
    "Performance evaluation by classifying sample document using LDA Bag of Words model\n",
    "\n",
    "We will check where our test document would be classified."
   ],
   "cell_type": "markdown",
   "metadata": {}
  },
  {
   "cell_type": "code",
   "execution_count": 35,
   "metadata": {},
   "outputs": [
    {
     "output_type": "execute_result",
     "data": {
      "text/plain": [
       "['ratepay', 'group', 'want', 'compulsori', 'local', 'govt', 'vote']"
      ]
     },
     "metadata": {},
     "execution_count": 35
    }
   ],
   "source": [
    "processed_docs[4310]"
   ]
  },
  {
   "cell_type": "code",
   "execution_count": 36,
   "metadata": {},
   "outputs": [
    {
     "output_type": "stream",
     "name": "stdout",
     "text": [
      "\nScore: 0.4559560716152191\t \nTopic: 0.019*\"donald\" + 0.015*\"beach\" + 0.014*\"nation\" + 0.014*\"farmer\" + 0.013*\"rural\" + 0.013*\"time\" + 0.012*\"council\" + 0.012*\"indigen\" + 0.012*\"school\" + 0.011*\"plan\"\n\nScore: 0.444010466337204\t \nTopic: 0.034*\"govern\" + 0.025*\"stori\" + 0.019*\"warn\" + 0.018*\"feder\" + 0.016*\"health\" + 0.014*\"countri\" + 0.014*\"fund\" + 0.014*\"claim\" + 0.013*\"life\" + 0.012*\"say\"\n\nScore: 0.012506913393735886\t \nTopic: 0.034*\"elect\" + 0.017*\"water\" + 0.017*\"state\" + 0.015*\"tasmanian\" + 0.011*\"labor\" + 0.011*\"liber\" + 0.010*\"morrison\" + 0.010*\"leader\" + 0.010*\"parti\" + 0.009*\"campaign\"\n\nScore: 0.012504363432526588\t \nTopic: 0.020*\"resid\" + 0.019*\"emerg\" + 0.018*\"chang\" + 0.018*\"say\" + 0.015*\"fear\" + 0.014*\"speak\" + 0.014*\"power\" + 0.013*\"worker\" + 0.011*\"concern\" + 0.011*\"climat\"\n\nScore: 0.012503700330853462\t \nTopic: 0.028*\"bushfir\" + 0.026*\"hous\" + 0.021*\"south\" + 0.019*\"north\" + 0.016*\"miss\" + 0.013*\"interview\" + 0.012*\"west\" + 0.011*\"gippsland\" + 0.011*\"east\" + 0.010*\"coast\"\n\nScore: 0.012503700330853462\t \nTopic: 0.030*\"kill\" + 0.028*\"shoot\" + 0.025*\"dead\" + 0.020*\"polic\" + 0.019*\"protest\" + 0.019*\"attack\" + 0.013*\"offic\" + 0.013*\"assault\" + 0.012*\"chines\" + 0.011*\"michael\"\n\nScore: 0.012503700330853462\t \nTopic: 0.056*\"australia\" + 0.045*\"australian\" + 0.026*\"world\" + 0.018*\"canberra\" + 0.017*\"test\" + 0.013*\"win\" + 0.011*\"final\" + 0.011*\"farm\" + 0.010*\"return\" + 0.010*\"beat\"\n\nScore: 0.012503700330853462\t \nTopic: 0.032*\"polic\" + 0.027*\"charg\" + 0.025*\"court\" + 0.023*\"death\" + 0.023*\"murder\" + 0.023*\"woman\" + 0.022*\"victoria\" + 0.016*\"victorian\" + 0.016*\"face\" + 0.016*\"alleg\"\n\nScore: 0.012503700330853462\t \nTopic: 0.027*\"news\" + 0.021*\"live\" + 0.021*\"market\" + 0.020*\"tasmania\" + 0.018*\"women\" + 0.013*\"rise\" + 0.012*\"high\" + 0.012*\"price\" + 0.012*\"lose\" + 0.011*\"street\"\n\nScore: 0.012503700330853462\t \nTopic: 0.049*\"year\" + 0.043*\"trump\" + 0.043*\"sydney\" + 0.027*\"queensland\" + 0.024*\"peopl\" + 0.021*\"home\" + 0.020*\"adelaid\" + 0.018*\"perth\" + 0.015*\"brisban\" + 0.015*\"royal\"\n"
     ]
    }
   ],
   "source": [
    "for index, score in sorted(lda_model[bow_corpus[4310]], key=lambda tup: -1*tup[1]):\n",
    "    print(\"\\nScore: {}\\t \\nTopic: {}\".format(score, lda_model.print_topic(index, 10)))"
   ]
  },
  {
   "source": [
    "try one more:"
   ],
   "cell_type": "markdown",
   "metadata": {}
  },
  {
   "cell_type": "code",
   "execution_count": 43,
   "metadata": {},
   "outputs": [
    {
     "output_type": "execute_result",
     "data": {
      "text/plain": [
       "['british', 'combat', 'troop', 'arriv', 'daili', 'kuwait']"
      ]
     },
     "metadata": {},
     "execution_count": 43
    }
   ],
   "source": [
    "processed_docs[17]\n"
   ]
  },
  {
   "cell_type": "code",
   "execution_count": 44,
   "metadata": {},
   "outputs": [
    {
     "output_type": "stream",
     "name": "stdout",
     "text": [
      "\nScore: 0.3002224862575531\t \nTopic: 0.030*\"kill\" + 0.028*\"shoot\" + 0.025*\"dead\" + 0.020*\"polic\" + 0.019*\"protest\" + 0.019*\"attack\" + 0.013*\"offic\" + 0.013*\"assault\" + 0.012*\"chines\" + 0.011*\"michael\"\n\nScore: 0.2996271252632141\t \nTopic: 0.028*\"bushfir\" + 0.026*\"hous\" + 0.021*\"south\" + 0.019*\"north\" + 0.016*\"miss\" + 0.013*\"interview\" + 0.012*\"west\" + 0.011*\"gippsland\" + 0.011*\"east\" + 0.010*\"coast\"\n\nScore: 0.15723927319049835\t \nTopic: 0.049*\"year\" + 0.043*\"trump\" + 0.043*\"sydney\" + 0.027*\"queensland\" + 0.024*\"peopl\" + 0.021*\"home\" + 0.020*\"adelaid\" + 0.018*\"perth\" + 0.015*\"brisban\" + 0.015*\"royal\"\n\nScore: 0.15711906552314758\t \nTopic: 0.019*\"donald\" + 0.015*\"beach\" + 0.014*\"nation\" + 0.014*\"farmer\" + 0.013*\"rural\" + 0.013*\"time\" + 0.012*\"council\" + 0.012*\"indigen\" + 0.012*\"school\" + 0.011*\"plan\"\n\nScore: 0.014298676513135433\t \nTopic: 0.056*\"australia\" + 0.045*\"australian\" + 0.026*\"world\" + 0.018*\"canberra\" + 0.017*\"test\" + 0.013*\"win\" + 0.011*\"final\" + 0.011*\"farm\" + 0.010*\"return\" + 0.010*\"beat\"\n\nScore: 0.014298676513135433\t \nTopic: 0.032*\"polic\" + 0.027*\"charg\" + 0.025*\"court\" + 0.023*\"death\" + 0.023*\"murder\" + 0.023*\"woman\" + 0.022*\"victoria\" + 0.016*\"victorian\" + 0.016*\"face\" + 0.016*\"alleg\"\n\nScore: 0.014298676513135433\t \nTopic: 0.020*\"resid\" + 0.019*\"emerg\" + 0.018*\"chang\" + 0.018*\"say\" + 0.015*\"fear\" + 0.014*\"speak\" + 0.014*\"power\" + 0.013*\"worker\" + 0.011*\"concern\" + 0.011*\"climat\"\n\nScore: 0.014298676513135433\t \nTopic: 0.027*\"news\" + 0.021*\"live\" + 0.021*\"market\" + 0.020*\"tasmania\" + 0.018*\"women\" + 0.013*\"rise\" + 0.012*\"high\" + 0.012*\"price\" + 0.012*\"lose\" + 0.011*\"street\"\n\nScore: 0.014298676513135433\t \nTopic: 0.034*\"elect\" + 0.017*\"water\" + 0.017*\"state\" + 0.015*\"tasmanian\" + 0.011*\"labor\" + 0.011*\"liber\" + 0.010*\"morrison\" + 0.010*\"leader\" + 0.010*\"parti\" + 0.009*\"campaign\"\n\nScore: 0.014298676513135433\t \nTopic: 0.034*\"govern\" + 0.025*\"stori\" + 0.019*\"warn\" + 0.018*\"feder\" + 0.016*\"health\" + 0.014*\"countri\" + 0.014*\"fund\" + 0.014*\"claim\" + 0.013*\"life\" + 0.012*\"say\"\n"
     ]
    }
   ],
   "source": [
    "for index, score in sorted(lda_model[bow_corpus[17]], key=lambda tup: -1*tup[1]):\n",
    "    print(\"\\nScore: {}\\t \\nTopic: {}\".format(score, lda_model.print_topic(index, 10)))"
   ]
  },
  {
   "source": [
    "Performance evaluation by classifying sample document using LDA TF-IDF model:\n",
    "- we like tf-idf because we think it is classifiying better"
   ],
   "cell_type": "markdown",
   "metadata": {}
  },
  {
   "cell_type": "code",
   "execution_count": 46,
   "metadata": {},
   "outputs": [
    {
     "output_type": "stream",
     "name": "stdout",
     "text": [
      "\nScore: 0.41654595732688904\t \nTopic: 0.011*\"govern\" + 0.008*\"price\" + 0.007*\"market\" + 0.007*\"australian\" + 0.007*\"rise\" + 0.006*\"share\" + 0.006*\"dollar\" + 0.005*\"live\" + 0.005*\"cattl\" + 0.005*\"violenc\"\n\nScore: 0.3374316394329071\t \nTopic: 0.013*\"elect\" + 0.007*\"labor\" + 0.007*\"monday\" + 0.007*\"thursday\" + 0.006*\"wall\" + 0.006*\"sport\" + 0.006*\"feder\" + 0.006*\"peter\" + 0.006*\"green\" + 0.006*\"say\"\n\nScore: 0.15848049521446228\t \nTopic: 0.024*\"news\" + 0.020*\"countri\" + 0.020*\"rural\" + 0.015*\"hour\" + 0.010*\"search\" + 0.009*\"friday\" + 0.009*\"nation\" + 0.009*\"scott\" + 0.009*\"turnbul\" + 0.007*\"miss\"\n\nScore: 0.012506398372352123\t \nTopic: 0.010*\"wednesday\" + 0.009*\"care\" + 0.009*\"morrison\" + 0.008*\"hill\" + 0.008*\"financ\" + 0.008*\"energi\" + 0.007*\"octob\" + 0.007*\"age\" + 0.007*\"june\" + 0.006*\"disabl\"\n\nScore: 0.012506279163062572\t \nTopic: 0.014*\"drum\" + 0.009*\"tuesday\" + 0.009*\"michael\" + 0.007*\"juli\" + 0.006*\"august\" + 0.006*\"cancer\" + 0.006*\"explain\" + 0.005*\"footag\" + 0.005*\"america\" + 0.005*\"kohler\"\n\nScore: 0.012506227940320969\t \nTopic: 0.028*\"trump\" + 0.009*\"leagu\" + 0.009*\"world\" + 0.008*\"final\" + 0.007*\"rugbi\" + 0.006*\"open\" + 0.006*\"australia\" + 0.006*\"beat\" + 0.005*\"fiji\" + 0.005*\"game\"\n\nScore: 0.012505955994129181\t \nTopic: 0.016*\"murder\" + 0.016*\"charg\" + 0.014*\"polic\" + 0.014*\"court\" + 0.011*\"alleg\" + 0.010*\"death\" + 0.009*\"royal\" + 0.009*\"woman\" + 0.009*\"jail\" + 0.009*\"sentenc\"\n\nScore: 0.012505787424743176\t \nTopic: 0.015*\"interview\" + 0.014*\"donald\" + 0.010*\"stori\" + 0.009*\"weather\" + 0.007*\"david\" + 0.006*\"septemb\" + 0.006*\"histori\" + 0.006*\"australia\" + 0.005*\"east\" + 0.005*\"live\"\n\nScore: 0.012505731545388699\t \nTopic: 0.010*\"australia\" + 0.008*\"cricket\" + 0.007*\"plead\" + 0.007*\"andrew\" + 0.006*\"mark\" + 0.006*\"guilti\" + 0.005*\"insid\" + 0.005*\"music\" + 0.005*\"spring\" + 0.005*\"test\"\n\nScore: 0.012505533173680305\t \nTopic: 0.017*\"crash\" + 0.012*\"kill\" + 0.010*\"dead\" + 0.010*\"die\" + 0.007*\"rescu\" + 0.007*\"north\" + 0.007*\"korea\" + 0.007*\"injur\" + 0.006*\"polic\" + 0.006*\"truck\"\n"
     ]
    }
   ],
   "source": [
    "for index, score in sorted(lda_model_tfidf[bow_corpus[4310]], key=lambda tup: -1*tup[1]):\n",
    "    print(\"\\nScore: {}\\t \\nTopic: {}\".format(score, lda_model_tfidf.print_topic(index, 10)))"
   ]
  },
  {
   "source": [
    "Real deal: testing on unseen document"
   ],
   "cell_type": "markdown",
   "metadata": {}
  },
  {
   "cell_type": "code",
   "execution_count": 51,
   "metadata": {},
   "outputs": [
    {
     "output_type": "stream",
     "name": "stdout",
     "text": [
      "Score: 0.5352160930633545\t Topic: 0.032*\"polic\" + 0.027*\"charg\" + 0.025*\"court\" + 0.023*\"death\" + 0.023*\"murder\"\nScore: 0.3314177989959717\t Topic: 0.030*\"kill\" + 0.028*\"shoot\" + 0.025*\"dead\" + 0.020*\"polic\" + 0.019*\"protest\"\nScore: 0.01667379029095173\t Topic: 0.034*\"govern\" + 0.025*\"stori\" + 0.019*\"warn\" + 0.018*\"feder\" + 0.016*\"health\"\nScore: 0.016670752316713333\t Topic: 0.034*\"elect\" + 0.017*\"water\" + 0.017*\"state\" + 0.015*\"tasmanian\" + 0.011*\"labor\"\nScore: 0.01667063497006893\t Topic: 0.056*\"australia\" + 0.045*\"australian\" + 0.026*\"world\" + 0.018*\"canberra\" + 0.017*\"test\"\nScore: 0.016670599579811096\t Topic: 0.020*\"resid\" + 0.019*\"emerg\" + 0.018*\"chang\" + 0.018*\"say\" + 0.015*\"fear\"\nScore: 0.01667056605219841\t Topic: 0.049*\"year\" + 0.043*\"trump\" + 0.043*\"sydney\" + 0.027*\"queensland\" + 0.024*\"peopl\"\nScore: 0.016669999808073044\t Topic: 0.027*\"news\" + 0.021*\"live\" + 0.021*\"market\" + 0.020*\"tasmania\" + 0.018*\"women\"\nScore: 0.016669999808073044\t Topic: 0.019*\"donald\" + 0.015*\"beach\" + 0.014*\"nation\" + 0.014*\"farmer\" + 0.013*\"rural\"\nScore: 0.01666979119181633\t Topic: 0.028*\"bushfir\" + 0.026*\"hous\" + 0.021*\"south\" + 0.019*\"north\" + 0.016*\"miss\"\n"
     ]
    }
   ],
   "source": [
    "unseen_document = 'Bushfire kills cattle herd in queensland'\n",
    "bow_vector = dictionary.doc2bow(preprocess(unseen_document))\n",
    "for index, score in sorted(lda_model_tfidf[bow_vector], key=lambda tup: -1*tup[1]):\n",
    "    print(\"Score: {}\\t Topic: {}\".format(score, lda_model.print_topic(index, 5)))"
   ]
  },
  {
   "source": [
    "### Conclusion\n",
    "We think this didn't work as well as we wanted it to because we trained it on a corpus of data that covered a wide range of topics. If we had a corpus on one topic, like JUST political tweets, the model might work better."
   ],
   "cell_type": "markdown",
   "metadata": {}
  }
 ]
}